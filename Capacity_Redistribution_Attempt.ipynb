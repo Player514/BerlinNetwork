{
 "cells": [
  {
   "cell_type": "code",
   "execution_count": 2,
   "metadata": {},
   "outputs": [],
   "source": [
    "import networkx as nx\n",
    "import random\n",
    "import numpy as np\n",
    "import time as time\n",
    "\n",
    "import matplotlib.pyplot as plt\n",
    "plt.rcParams['figure.figsize']=[15,7]\n",
    "#Girvan Newman Algorithm for edge removal\n",
    "#Get components at every edge removal\n",
    "#Finding the right cuts: Calc Modularity for every cut, when you get highest modularity, that's the community partition\n",
    "# Highest peak == optimal partition\n",
    "#A peak may be an interesting cut\n",
    "#Time efficiency if BFS=O(|edges|)\n",
    "# Edge betweeness O(|V||E|)\n",
    "#Every time we remove an edge we have to recalculate edge betweeness O(|V|*|E|*|E|)\n"
   ]
  },
  {
   "cell_type": "code",
   "execution_count": 5,
   "metadata": {},
   "outputs": [],
   "source": [
    "g = nx.read_edgelist(\"complete_networld_cap.edgelist\", create_using = nx.DiGraph())"
   ]
  },
  {
   "cell_type": "code",
   "execution_count": 6,
   "metadata": {},
   "outputs": [],
   "source": [
    "def random_walk(g):\n",
    "    edge_count = {}\n",
    "    for i in range(5000):\n",
    "        start = str(np.random.randint(1,12982))\n",
    "        status = True\n",
    "        while status == True:\n",
    "            for j in range(1,9):\n",
    "                node_neighbors = list(g.neighbors(start))\n",
    "                if len(node_neighbors) != 0:\n",
    "                    N = random.choice(list(g.neighbors(start)))\n",
    "                    pair = start + ' ' + N\n",
    "\n",
    "                    try: \n",
    "                        edge_count[pair] += 1\n",
    "                    except KeyError as e:\n",
    "                        edge_count[pair] = 1   \n",
    "                    start = N\n",
    "\n",
    "                else:\n",
    "                    status = False\n",
    "            status = False \n",
    "    return edge_count\n",
    "            "
   ]
  },
  {
   "cell_type": "code",
   "execution_count": 7,
   "metadata": {},
   "outputs": [],
   "source": [
    "def avg_list(alist):\n",
    "    avg_list = [sum(elem)/len(elem) for elem in zip(*alist)]\n",
    "    \n",
    "    return avg_list"
   ]
  },
  {
   "cell_type": "code",
   "execution_count": 8,
   "metadata": {},
   "outputs": [],
   "source": [
    "def res_test(edgelist, runs, redistribute, sort):\n",
    "    \n",
    "    avg_weak_comp_list, avg_strong_comp_list, avg_total_comp_list, avg_edge_percentage_value_list = [], [], [], []\n",
    "    \n",
    "    for run in range(runs):\n",
    "        print(\"Run: \", run+1)\n",
    "    \n",
    "        g = nx.read_edgelist(edgelist, create_using = nx.DiGraph())\n",
    "        \n",
    "        if redistribute:\n",
    "            g_edge_cap = nx.get_edge_attributes(g,'capacity')\n",
    "            g_edge_cars = nx.get_edge_attributes(g,'cars')\n",
    "        \n",
    "        edge_count = random_walk(g)\n",
    "        \n",
    "        if sort:\n",
    "            edge_count = sorted(edge_count, key=edge_count.get, reverse=True)\n",
    "        \n",
    "        comp_count, weakly_comp_count, strongly_comp_count, edge_percentage = [], [], [], []\n",
    "        weakly_comp_count.append(nx.number_weakly_connected_components(g))\n",
    "        strongly_comp_count.append(nx.number_strongly_connected_components(g))\n",
    "        comp_count.append(weakly_comp_count[0] + strongly_comp_count[0])\n",
    "        edge_percentage.append(0/len(g.edges())*100)\n",
    "        total_edge_count = len(g.edges())\n",
    "\n",
    "        for index, elem in enumerate(edge_count):\n",
    "            elem = elem.split(' ')\n",
    "            start_node = elem[0]\n",
    "            end_node = elem[1]\n",
    "            \n",
    "            if g.has_edge(start_node, end_node):\n",
    "                g.remove_edge(start_node,end_node)\n",
    "                \n",
    "            else:\n",
    "                continue\n",
    "            \n",
    "            if redistribute:\n",
    "                cars = g_edge_cars[start_node,end_node]\n",
    "                start_node_neighbors = g.successors(start_node)\n",
    "                neighbors_w_path = {}\n",
    "\n",
    "                for successor in start_node_neighbors:\n",
    "                    have_path = nx.has_path(g, successor, end_node)\n",
    "                    if have_path:\n",
    "                        neighbors_w_path[successor] = start_node, successor\n",
    "                        #print(neighbors_w_path[successor])\n",
    "                        #print(neighbors_w_path[successor][1])\n",
    "                    else:\n",
    "                        continue\n",
    "\n",
    "                if len(neighbors_w_path) != 0:\n",
    "                    cars_frac = cars/len(neighbors_w_path)\n",
    "                    fail_set = set()\n",
    "                    redistribute_cars(g,start_node, cars_frac, neighbors_w_path,g_edge_cars, g_edge_cap, fail_set)\n",
    "\n",
    "                else:\n",
    "                    print(\"Fail Option 1\")\n",
    "\n",
    "            \n",
    "            if index % 1 == 0:\n",
    "\n",
    "                weakly_comp = nx.number_weakly_connected_components(g)\n",
    "                strongly_comp = nx.number_strongly_connected_components(g)\n",
    "\n",
    "                comp_count.append(weakly_comp + strongly_comp)\n",
    "                weakly_comp_count.append(weakly_comp)\n",
    "                strongly_comp_count.append(strongly_comp)\n",
    "\n",
    "                edge_percentage_value = index/total_edge_count * 100\n",
    "                edge_percentage.append(edge_percentage_value)\n",
    "\n",
    "        avg_weak_comp_list.append(weakly_comp_count)\n",
    "        avg_strong_comp_list.append(strongly_comp_count)\n",
    "        avg_total_comp_list.append(comp_count)\n",
    "        avg_edge_percentage_value_list.append(edge_percentage)\n",
    "\n",
    "    final_weak = avg_list(avg_weak_comp_list)\n",
    "    final_strong =  avg_list(avg_strong_comp_list)\n",
    "    final_total = avg_list(avg_total_comp_list)\n",
    "    final_percentage = avg_list(avg_edge_percentage_value_list)\n",
    "\n",
    "    plt.plot(final_percentage, final_weak, label=\"weak\")\n",
    "    plt.plot(final_percentage, final_strong, label=\"strong\")\n",
    "    plt.plot(final_percentage, final_total, label=\"total\")\n",
    "    plt.xlabel('Edge Removal Percentage')\n",
    "    plt.ylabel('Number of Components')\n",
    "    plt.legend()"
   ]
  },
  {
   "cell_type": "code",
   "execution_count": 9,
   "metadata": {},
   "outputs": [],
   "source": [
    "def redistribute_cars(g,start_node, cars_frac, neighbor_w_path, g_edge_cars, g_edge_cap, fail_set):\n",
    "    for successor in neighbor_w_path:\n",
    "        end_node = neighbor_w_path[successor][1]\n",
    "        if g_edge_cars[start_node, end_node] + cars_frac > g_edge_cap[start_node,end_node]:\n",
    "            if successor in fail_set:\n",
    "                continue\n",
    "            else:\n",
    "                fail_set.add(successor)\n",
    "                \n",
    "                if len(fail_set) != len(neighbor_w_path):\n",
    "                    extra_cars = cars_frac/(len(neighbor_w_path)-len(fail_set))\n",
    "                    #print(start_node, extra_cars, neighbor_w_path, end_node, fail_set)\n",
    "                    #print(g_edge_cap[start_node, end_node])\n",
    "                    #print(g_edge_cars[start_node, end_node])\n",
    "                    g.remove_edge(start_node,end_node)\n",
    "                    redistribute_cars(g,start_node, extra_cars, neighbor_w_path, g_edge_cars, g_edge_cap, fail_set)\n",
    "                else:\n",
    "                    print(\"Fail Option 2\")\n",
    "        else:\n",
    "            g_edge_cars[start_node,end_node] += cars_frac"
   ]
  },
  {
   "cell_type": "code",
   "execution_count": 10,
   "metadata": {},
   "outputs": [
    {
     "name": "stdout",
     "output_type": "stream",
     "text": [
      "Run:  1\n",
      "4499.486031293869\n"
     ]
    },
    {
     "data": {
      "image/png": "[encoded data removed]",
      "text/plain": [
       "<matplotlib.figure.Figure at 0x7f5e7412c9e8>"
      ]
     },
     "metadata": {},
     "output_type": "display_data"
    }
   ],
   "source": [
    "start = time.time()\n",
    "res_test(\"complete_networld_cap.edgelist\", runs=1, redistribute=False, sort=False, extra_walks=False)\n",
    "end = time.time() - start\n",
    "print(end)"
   ]
  },
  {
   "cell_type": "code",
   "execution_count": 11,
   "metadata": {},
   "outputs": [],
   "source": [
    "g = nx.read_edgelist(\"complete_networld_cap.edgelist\", create_using = nx.DiGraph())"
   ]
  },
  {
   "cell_type": "code",
   "execution_count": 12,
   "metadata": {},
   "outputs": [
    {
     "name": "stdout",
     "output_type": "stream",
     "text": [
      "Run:  1\n"
     ]
    },
    {
     "ename": "AttributeError",
     "evalue": "'str' object has no attribute 'decode'",
     "output_type": "error",
     "traceback": [
      "\u001b[0;31m---------------------------------------------------------------------------\u001b[0m",
      "\u001b[0;31mAttributeError\u001b[0m                            Traceback (most recent call last)",
      "\u001b[0;32m<ipython-input-12-3a58047a40b5>\u001b[0m in \u001b[0;36m<module>\u001b[0;34m()\u001b[0m\n\u001b[0;32m----> 1\u001b[0;31m \u001b[0mres_test\u001b[0m\u001b[0;34m(\u001b[0m\u001b[0mg\u001b[0m\u001b[0;34m,\u001b[0m \u001b[0mruns\u001b[0m\u001b[0;34m=\u001b[0m\u001b[0;36m1\u001b[0m\u001b[0;34m,\u001b[0m \u001b[0mredistribute\u001b[0m\u001b[0;34m=\u001b[0m\u001b[0;32mFalse\u001b[0m\u001b[0;34m,\u001b[0m \u001b[0msort\u001b[0m\u001b[0;34m=\u001b[0m\u001b[0;32mFalse\u001b[0m\u001b[0;34m,\u001b[0m \u001b[0mextra_walks\u001b[0m\u001b[0;34m=\u001b[0m\u001b[0;32mFalse\u001b[0m\u001b[0;34m)\u001b[0m\u001b[0;34m\u001b[0m\u001b[0m\n\u001b[0m",
      "\u001b[0;32m<ipython-input-8-08a1bdddbd54>\u001b[0m in \u001b[0;36mres_test\u001b[0;34m(edgelist, runs, redistribute, sort, extra_walks)\u001b[0m\n\u001b[1;32m      6\u001b[0m         \u001b[0mprint\u001b[0m\u001b[0;34m(\u001b[0m\u001b[0;34m\"Run: \"\u001b[0m\u001b[0;34m,\u001b[0m \u001b[0mrun\u001b[0m\u001b[0;34m+\u001b[0m\u001b[0;36m1\u001b[0m\u001b[0;34m)\u001b[0m\u001b[0;34m\u001b[0m\u001b[0m\n\u001b[1;32m      7\u001b[0m \u001b[0;34m\u001b[0m\u001b[0m\n\u001b[0;32m----> 8\u001b[0;31m         \u001b[0mg\u001b[0m \u001b[0;34m=\u001b[0m \u001b[0mnx\u001b[0m\u001b[0;34m.\u001b[0m\u001b[0mread_edgelist\u001b[0m\u001b[0;34m(\u001b[0m\u001b[0medgelist\u001b[0m\u001b[0;34m,\u001b[0m \u001b[0mcreate_using\u001b[0m \u001b[0;34m=\u001b[0m \u001b[0mnx\u001b[0m\u001b[0;34m.\u001b[0m\u001b[0mDiGraph\u001b[0m\u001b[0;34m(\u001b[0m\u001b[0;34m)\u001b[0m\u001b[0;34m)\u001b[0m\u001b[0;34m\u001b[0m\u001b[0m\n\u001b[0m\u001b[1;32m      9\u001b[0m \u001b[0;34m\u001b[0m\u001b[0m\n\u001b[1;32m     10\u001b[0m         \u001b[0;32mif\u001b[0m \u001b[0mredistribute\u001b[0m\u001b[0;34m:\u001b[0m\u001b[0;34m\u001b[0m\u001b[0m\n",
      "\u001b[0;32m<decorator-gen-704>\u001b[0m in \u001b[0;36mread_edgelist\u001b[0;34m(path, comments, delimiter, create_using, nodetype, data, edgetype, encoding)\u001b[0m\n",
      "\u001b[0;32m/usr/local/lib/python3.5/dist-packages/networkx/utils/decorators.py\u001b[0m in \u001b[0;36m_open_file\u001b[0;34m(func_to_be_decorated, *args, **kwargs)\u001b[0m\n\u001b[1;32m    238\u001b[0m         \u001b[0;31m# Finally, we call the original function, making sure to close the fobj\u001b[0m\u001b[0;34m\u001b[0m\u001b[0;34m\u001b[0m\u001b[0m\n\u001b[1;32m    239\u001b[0m         \u001b[0;32mtry\u001b[0m\u001b[0;34m:\u001b[0m\u001b[0;34m\u001b[0m\u001b[0m\n\u001b[0;32m--> 240\u001b[0;31m             \u001b[0mresult\u001b[0m \u001b[0;34m=\u001b[0m \u001b[0mfunc_to_be_decorated\u001b[0m\u001b[0;34m(\u001b[0m\u001b[0;34m*\u001b[0m\u001b[0mnew_args\u001b[0m\u001b[0;34m,\u001b[0m \u001b[0;34m**\u001b[0m\u001b[0mkwargs\u001b[0m\u001b[0;34m)\u001b[0m\u001b[0;34m\u001b[0m\u001b[0m\n\u001b[0m\u001b[1;32m    241\u001b[0m         \u001b[0;32mfinally\u001b[0m\u001b[0;34m:\u001b[0m\u001b[0;34m\u001b[0m\u001b[0m\n\u001b[1;32m    242\u001b[0m             \u001b[0;32mif\u001b[0m \u001b[0mclose_fobj\u001b[0m\u001b[0;34m:\u001b[0m\u001b[0;34m\u001b[0m\u001b[0m\n",
      "\u001b[0;32m/usr/local/lib/python3.5/dist-packages/networkx/readwrite/edgelist.py\u001b[0m in \u001b[0;36mread_edgelist\u001b[0;34m(path, comments, delimiter, create_using, nodetype, data, edgetype, encoding)\u001b[0m\n\u001b[1;32m    367\u001b[0m     return parse_edgelist(lines, comments=comments, delimiter=delimiter,\n\u001b[1;32m    368\u001b[0m                           \u001b[0mcreate_using\u001b[0m\u001b[0;34m=\u001b[0m\u001b[0mcreate_using\u001b[0m\u001b[0;34m,\u001b[0m \u001b[0mnodetype\u001b[0m\u001b[0;34m=\u001b[0m\u001b[0mnodetype\u001b[0m\u001b[0;34m,\u001b[0m\u001b[0;34m\u001b[0m\u001b[0m\n\u001b[0;32m--> 369\u001b[0;31m                           data=data)\n\u001b[0m\u001b[1;32m    370\u001b[0m \u001b[0;34m\u001b[0m\u001b[0m\n\u001b[1;32m    371\u001b[0m \u001b[0;34m\u001b[0m\u001b[0m\n",
      "\u001b[0;32m/usr/local/lib/python3.5/dist-packages/networkx/readwrite/edgelist.py\u001b[0m in \u001b[0;36mparse_edgelist\u001b[0;34m(lines, comments, delimiter, create_using, nodetype, data)\u001b[0m\n\u001b[1;32m    248\u001b[0m     \u001b[0;32mfrom\u001b[0m \u001b[0mast\u001b[0m \u001b[0;32mimport\u001b[0m \u001b[0mliteral_eval\u001b[0m\u001b[0;34m\u001b[0m\u001b[0m\n\u001b[1;32m    249\u001b[0m     \u001b[0mG\u001b[0m \u001b[0;34m=\u001b[0m \u001b[0mnx\u001b[0m\u001b[0;34m.\u001b[0m\u001b[0mempty_graph\u001b[0m\u001b[0;34m(\u001b[0m\u001b[0;36m0\u001b[0m\u001b[0;34m,\u001b[0m \u001b[0mcreate_using\u001b[0m\u001b[0;34m)\u001b[0m\u001b[0;34m\u001b[0m\u001b[0m\n\u001b[0;32m--> 250\u001b[0;31m     \u001b[0;32mfor\u001b[0m \u001b[0mline\u001b[0m \u001b[0;32min\u001b[0m \u001b[0mlines\u001b[0m\u001b[0;34m:\u001b[0m\u001b[0;34m\u001b[0m\u001b[0m\n\u001b[0m\u001b[1;32m    251\u001b[0m         \u001b[0mp\u001b[0m \u001b[0;34m=\u001b[0m \u001b[0mline\u001b[0m\u001b[0;34m.\u001b[0m\u001b[0mfind\u001b[0m\u001b[0;34m(\u001b[0m\u001b[0mcomments\u001b[0m\u001b[0;34m)\u001b[0m\u001b[0;34m\u001b[0m\u001b[0m\n\u001b[1;32m    252\u001b[0m         \u001b[0;32mif\u001b[0m \u001b[0mp\u001b[0m \u001b[0;34m>=\u001b[0m \u001b[0;36m0\u001b[0m\u001b[0;34m:\u001b[0m\u001b[0;34m\u001b[0m\u001b[0m\n",
      "\u001b[0;32m/usr/local/lib/python3.5/dist-packages/networkx/readwrite/edgelist.py\u001b[0m in \u001b[0;36m<genexpr>\u001b[0;34m(.0)\u001b[0m\n\u001b[1;32m    364\u001b[0m     \u001b[0mtypes\u001b[0m \u001b[0;34m(\u001b[0m\u001b[0me\u001b[0m\u001b[0;34m.\u001b[0m\u001b[0mg\u001b[0m\u001b[0;34m.\u001b[0m \u001b[0mint\u001b[0m\u001b[0;34m,\u001b[0m \u001b[0mfloat\u001b[0m\u001b[0;34m,\u001b[0m \u001b[0mstr\u001b[0m\u001b[0;34m,\u001b[0m \u001b[0mfrozenset\u001b[0m \u001b[0;34m-\u001b[0m \u001b[0;32mor\u001b[0m \u001b[0mtuples\u001b[0m \u001b[0mof\u001b[0m \u001b[0mthose\u001b[0m\u001b[0;34m,\u001b[0m \u001b[0metc\u001b[0m\u001b[0;34m.\u001b[0m\u001b[0;34m)\u001b[0m\u001b[0;34m\u001b[0m\u001b[0m\n\u001b[1;32m    365\u001b[0m     \"\"\"\n\u001b[0;32m--> 366\u001b[0;31m     \u001b[0mlines\u001b[0m \u001b[0;34m=\u001b[0m \u001b[0;34m(\u001b[0m\u001b[0mline\u001b[0m\u001b[0;34m.\u001b[0m\u001b[0mdecode\u001b[0m\u001b[0;34m(\u001b[0m\u001b[0mencoding\u001b[0m\u001b[0;34m)\u001b[0m \u001b[0;32mfor\u001b[0m \u001b[0mline\u001b[0m \u001b[0;32min\u001b[0m \u001b[0mpath\u001b[0m\u001b[0;34m)\u001b[0m\u001b[0;34m\u001b[0m\u001b[0m\n\u001b[0m\u001b[1;32m    367\u001b[0m     return parse_edgelist(lines, comments=comments, delimiter=delimiter,\n\u001b[1;32m    368\u001b[0m                           \u001b[0mcreate_using\u001b[0m\u001b[0;34m=\u001b[0m\u001b[0mcreate_using\u001b[0m\u001b[0;34m,\u001b[0m \u001b[0mnodetype\u001b[0m\u001b[0;34m=\u001b[0m\u001b[0mnodetype\u001b[0m\u001b[0;34m,\u001b[0m\u001b[0;34m\u001b[0m\u001b[0m\n",
      "\u001b[0;31mAttributeError\u001b[0m: 'str' object has no attribute 'decode'"
     ]
    }
   ],
   "source": [
    "res_test(g, runs=1, redistribute=False, sort=False, extra_walks=False)"
   ]
  },
  {
   "cell_type": "code",
   "execution_count": null,
   "metadata": {},
   "outputs": [],
   "source": []
  },
  {
   "cell_type": "code",
   "execution_count": null,
   "metadata": {},
   "outputs": [],
   "source": []
  },
  {
   "cell_type": "code",
   "execution_count": null,
   "metadata": {},
   "outputs": [],
   "source": []
  },
  {
   "cell_type": "code",
   "execution_count": null,
   "metadata": {},
   "outputs": [],
   "source": []
  },
  {
   "cell_type": "code",
   "execution_count": null,
   "metadata": {},
   "outputs": [],
   "source": []
  }
 ],
 "metadata": {
  "kernelspec": {
   "display_name": "Python 3",
   "language": "python",
   "name": "python3"
  },
  "language_info": {
   "codemirror_mode": {
    "name": "ipython",
    "version": 3
   },
   "file_extension": ".py",
   "mimetype": "text/x-python",
   "name": "python",
   "nbconvert_exporter": "python",
   "pygments_lexer": "ipython3",
   "version": "3.5.2"
  }
 },
 "nbformat": 4,
 "nbformat_minor": 2
}
